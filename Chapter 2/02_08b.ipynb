{
 "cells": [
  {
   "cell_type": "markdown",
   "metadata": {},
   "source": [
    "# Exploring Alpha Vantage API"
   ]
  },
  {
   "cell_type": "markdown",
   "metadata": {},
   "source": [
    "### Imports- **Run First**"
   ]
  },
  {
   "cell_type": "code",
   "execution_count": 2,
   "metadata": {
    "tags": []
   },
   "outputs": [],
   "source": [
    "#open file with your API key\n",
    "with open('API_Key.txt') as file:\n",
    "    API_key = file.read()\n",
    "API_key = API_key.strip()"
   ]
  },
  {
   "cell_type": "code",
   "execution_count": 3,
   "metadata": {
    "tags": []
   },
   "outputs": [],
   "source": [
    "#import libraries\n",
    "from alpha_vantage.timeseries import TimeSeries\n",
    "\n",
    "import requests\n",
    "from bs4 import BeautifulSoup\n",
    "\n",
    "import pandas as pd\n",
    "import io"
   ]
  },
  {
   "cell_type": "code",
   "execution_count": 4,
   "metadata": {
    "tags": []
   },
   "outputs": [],
   "source": [
    "#build TimeSeries variable from Alpha Vantage API\n",
    "ts1 = TimeSeries(key = API_key)"
   ]
  },
  {
   "cell_type": "markdown",
   "metadata": {
    "tags": []
   },
   "source": [
    "### How to put stock data into a DataFrame"
   ]
  },
  {
   "cell_type": "markdown",
   "metadata": {},
   "source": [
    "#### Requests Method"
   ]
  },
  {
   "cell_type": "code",
   "execution_count": 5,
   "metadata": {
    "tags": []
   },
   "outputs": [
    {
     "name": "stdout",
     "output_type": "stream",
     "text": [
      "       timestamp    open     high     low   close     volume\n",
      "0     2023-10-06  171.22  177.990  170.82  177.49  260574027\n",
      "1     2023-09-29  174.20  176.970  167.62  171.21  285838995\n",
      "2     2023-09-22  176.48  179.695  173.86  174.79  297395196\n",
      "3     2023-09-15  180.07  180.300  173.58  175.01  403746390\n",
      "4     2023-09-08  188.28  189.980  173.54  178.18  305126712\n",
      "...          ...     ...      ...     ...     ...        ...\n",
      "1243  1999-12-10  114.56  118.000   99.00  103.00   25152800\n",
      "1244  1999-12-03   94.25  115.560   93.25  115.00   28046300\n",
      "1245  1999-11-26   91.75   95.500   88.50   95.06    9757600\n",
      "1246  1999-11-19   89.62   94.750   88.06   92.44   13711000\n",
      "1247  1999-11-12   87.75   97.730   86.75   90.62   25776200\n",
      "\n",
      "[1248 rows x 6 columns]\n"
     ]
    }
   ],
   "source": [
    "#get weekly stock data of Apple in DataFrame format\n",
    "url = 'https://www.alphavantage.co/query?function=TIME_SERIES_WEEKLY&symbol=AAPL&apikey=' + str(API_key) + '&datatype=csv'\n",
    "r = requests.get(url).content\n",
    "data = pd.read_csv(io.StringIO(r.decode('utf-8')))\n",
    "\n",
    "print(data)"
   ]
  },
  {
   "cell_type": "code",
   "execution_count": 6,
   "metadata": {
    "tags": []
   },
   "outputs": [
    {
     "data": {
      "text/html": [
       "<div>\n",
       "<style scoped>\n",
       "    .dataframe tbody tr th:only-of-type {\n",
       "        vertical-align: middle;\n",
       "    }\n",
       "\n",
       "    .dataframe tbody tr th {\n",
       "        vertical-align: top;\n",
       "    }\n",
       "\n",
       "    .dataframe thead th {\n",
       "        text-align: right;\n",
       "    }\n",
       "</style>\n",
       "<table border=\"1\" class=\"dataframe\">\n",
       "  <thead>\n",
       "    <tr style=\"text-align: right;\">\n",
       "      <th></th>\n",
       "      <th>timestamp</th>\n",
       "      <th>open</th>\n",
       "      <th>high</th>\n",
       "      <th>low</th>\n",
       "      <th>close</th>\n",
       "      <th>volume</th>\n",
       "    </tr>\n",
       "  </thead>\n",
       "  <tbody>\n",
       "    <tr>\n",
       "      <th>0</th>\n",
       "      <td>2023-10-06</td>\n",
       "      <td>171.22</td>\n",
       "      <td>177.990</td>\n",
       "      <td>170.82</td>\n",
       "      <td>177.49</td>\n",
       "      <td>260574027</td>\n",
       "    </tr>\n",
       "    <tr>\n",
       "      <th>1</th>\n",
       "      <td>2023-09-29</td>\n",
       "      <td>174.20</td>\n",
       "      <td>176.970</td>\n",
       "      <td>167.62</td>\n",
       "      <td>171.21</td>\n",
       "      <td>285838995</td>\n",
       "    </tr>\n",
       "    <tr>\n",
       "      <th>2</th>\n",
       "      <td>2023-09-22</td>\n",
       "      <td>176.48</td>\n",
       "      <td>179.695</td>\n",
       "      <td>173.86</td>\n",
       "      <td>174.79</td>\n",
       "      <td>297395196</td>\n",
       "    </tr>\n",
       "    <tr>\n",
       "      <th>3</th>\n",
       "      <td>2023-09-15</td>\n",
       "      <td>180.07</td>\n",
       "      <td>180.300</td>\n",
       "      <td>173.58</td>\n",
       "      <td>175.01</td>\n",
       "      <td>403746390</td>\n",
       "    </tr>\n",
       "    <tr>\n",
       "      <th>4</th>\n",
       "      <td>2023-09-08</td>\n",
       "      <td>188.28</td>\n",
       "      <td>189.980</td>\n",
       "      <td>173.54</td>\n",
       "      <td>178.18</td>\n",
       "      <td>305126712</td>\n",
       "    </tr>\n",
       "  </tbody>\n",
       "</table>\n",
       "</div>"
      ],
      "text/plain": [
       "    timestamp    open     high     low   close     volume\n",
       "0  2023-10-06  171.22  177.990  170.82  177.49  260574027\n",
       "1  2023-09-29  174.20  176.970  167.62  171.21  285838995\n",
       "2  2023-09-22  176.48  179.695  173.86  174.79  297395196\n",
       "3  2023-09-15  180.07  180.300  173.58  175.01  403746390\n",
       "4  2023-09-08  188.28  189.980  173.54  178.18  305126712"
      ]
     },
     "execution_count": 6,
     "metadata": {},
     "output_type": "execute_result"
    }
   ],
   "source": [
    "#get head of data\n",
    "data.head()"
   ]
  },
  {
   "cell_type": "markdown",
   "metadata": {},
   "source": [
    "#### Python Package Method"
   ]
  },
  {
   "cell_type": "code",
   "execution_count": 7,
   "metadata": {
    "tags": []
   },
   "outputs": [],
   "source": [
    "#store Apple stock intraday data in data and meta_data variables\n",
    "apple1, meta_data = ts1.get_intraday(symbol = 'AAPL')"
   ]
  },
  {
   "cell_type": "code",
   "execution_count": 8,
   "metadata": {
    "tags": []
   },
   "outputs": [
    {
     "data": {
      "text/plain": [
       "{'1. Information': 'Intraday (15min) open, high, low, close prices and volume',\n",
       " '2. Symbol': 'AAPL',\n",
       " '3. Last Refreshed': '2023-10-06 19:45:00',\n",
       " '4. Interval': '15min',\n",
       " '5. Output Size': 'Compact',\n",
       " '6. Time Zone': 'US/Eastern'}"
      ]
     },
     "execution_count": 8,
     "metadata": {},
     "output_type": "execute_result"
    }
   ],
   "source": [
    "#print meta_data\n",
    "meta_data"
   ]
  },
  {
   "cell_type": "code",
   "execution_count": 9,
   "metadata": {
    "tags": []
   },
   "outputs": [
    {
     "data": {
      "text/html": [
       "<div>\n",
       "<style scoped>\n",
       "    .dataframe tbody tr th:only-of-type {\n",
       "        vertical-align: middle;\n",
       "    }\n",
       "\n",
       "    .dataframe tbody tr th {\n",
       "        vertical-align: top;\n",
       "    }\n",
       "\n",
       "    .dataframe thead th {\n",
       "        text-align: right;\n",
       "    }\n",
       "</style>\n",
       "<table border=\"1\" class=\"dataframe\">\n",
       "  <thead>\n",
       "    <tr style=\"text-align: right;\">\n",
       "      <th></th>\n",
       "      <th>timestamp</th>\n",
       "      <th>open</th>\n",
       "      <th>high</th>\n",
       "      <th>low</th>\n",
       "      <th>close</th>\n",
       "      <th>volume</th>\n",
       "    </tr>\n",
       "  </thead>\n",
       "  <tbody>\n",
       "    <tr>\n",
       "      <th>0</th>\n",
       "      <td>2023-10-06</td>\n",
       "      <td>171.22</td>\n",
       "      <td>177.990</td>\n",
       "      <td>170.82</td>\n",
       "      <td>177.49</td>\n",
       "      <td>260574027</td>\n",
       "    </tr>\n",
       "    <tr>\n",
       "      <th>1</th>\n",
       "      <td>2023-09-29</td>\n",
       "      <td>174.20</td>\n",
       "      <td>176.970</td>\n",
       "      <td>167.62</td>\n",
       "      <td>171.21</td>\n",
       "      <td>285838995</td>\n",
       "    </tr>\n",
       "    <tr>\n",
       "      <th>2</th>\n",
       "      <td>2023-09-22</td>\n",
       "      <td>176.48</td>\n",
       "      <td>179.695</td>\n",
       "      <td>173.86</td>\n",
       "      <td>174.79</td>\n",
       "      <td>297395196</td>\n",
       "    </tr>\n",
       "    <tr>\n",
       "      <th>3</th>\n",
       "      <td>2023-09-15</td>\n",
       "      <td>180.07</td>\n",
       "      <td>180.300</td>\n",
       "      <td>173.58</td>\n",
       "      <td>175.01</td>\n",
       "      <td>403746390</td>\n",
       "    </tr>\n",
       "    <tr>\n",
       "      <th>4</th>\n",
       "      <td>2023-09-08</td>\n",
       "      <td>188.28</td>\n",
       "      <td>189.980</td>\n",
       "      <td>173.54</td>\n",
       "      <td>178.18</td>\n",
       "      <td>305126712</td>\n",
       "    </tr>\n",
       "    <tr>\n",
       "      <th>...</th>\n",
       "      <td>...</td>\n",
       "      <td>...</td>\n",
       "      <td>...</td>\n",
       "      <td>...</td>\n",
       "      <td>...</td>\n",
       "      <td>...</td>\n",
       "    </tr>\n",
       "    <tr>\n",
       "      <th>1243</th>\n",
       "      <td>1999-12-10</td>\n",
       "      <td>114.56</td>\n",
       "      <td>118.000</td>\n",
       "      <td>99.00</td>\n",
       "      <td>103.00</td>\n",
       "      <td>25152800</td>\n",
       "    </tr>\n",
       "    <tr>\n",
       "      <th>1244</th>\n",
       "      <td>1999-12-03</td>\n",
       "      <td>94.25</td>\n",
       "      <td>115.560</td>\n",
       "      <td>93.25</td>\n",
       "      <td>115.00</td>\n",
       "      <td>28046300</td>\n",
       "    </tr>\n",
       "    <tr>\n",
       "      <th>1245</th>\n",
       "      <td>1999-11-26</td>\n",
       "      <td>91.75</td>\n",
       "      <td>95.500</td>\n",
       "      <td>88.50</td>\n",
       "      <td>95.06</td>\n",
       "      <td>9757600</td>\n",
       "    </tr>\n",
       "    <tr>\n",
       "      <th>1246</th>\n",
       "      <td>1999-11-19</td>\n",
       "      <td>89.62</td>\n",
       "      <td>94.750</td>\n",
       "      <td>88.06</td>\n",
       "      <td>92.44</td>\n",
       "      <td>13711000</td>\n",
       "    </tr>\n",
       "    <tr>\n",
       "      <th>1247</th>\n",
       "      <td>1999-11-12</td>\n",
       "      <td>87.75</td>\n",
       "      <td>97.730</td>\n",
       "      <td>86.75</td>\n",
       "      <td>90.62</td>\n",
       "      <td>25776200</td>\n",
       "    </tr>\n",
       "  </tbody>\n",
       "</table>\n",
       "<p>1248 rows × 6 columns</p>\n",
       "</div>"
      ],
      "text/plain": [
       "       timestamp    open     high     low   close     volume\n",
       "0     2023-10-06  171.22  177.990  170.82  177.49  260574027\n",
       "1     2023-09-29  174.20  176.970  167.62  171.21  285838995\n",
       "2     2023-09-22  176.48  179.695  173.86  174.79  297395196\n",
       "3     2023-09-15  180.07  180.300  173.58  175.01  403746390\n",
       "4     2023-09-08  188.28  189.980  173.54  178.18  305126712\n",
       "...          ...     ...      ...     ...     ...        ...\n",
       "1243  1999-12-10  114.56  118.000   99.00  103.00   25152800\n",
       "1244  1999-12-03   94.25  115.560   93.25  115.00   28046300\n",
       "1245  1999-11-26   91.75   95.500   88.50   95.06    9757600\n",
       "1246  1999-11-19   89.62   94.750   88.06   92.44   13711000\n",
       "1247  1999-11-12   87.75   97.730   86.75   90.62   25776200\n",
       "\n",
       "[1248 rows x 6 columns]"
      ]
     },
     "execution_count": 9,
     "metadata": {},
     "output_type": "execute_result"
    }
   ],
   "source": [
    "#print data\n",
    "data"
   ]
  },
  {
   "cell_type": "code",
   "execution_count": 10,
   "metadata": {
    "tags": []
   },
   "outputs": [
    {
     "data": {
      "text/html": [
       "<div>\n",
       "<style scoped>\n",
       "    .dataframe tbody tr th:only-of-type {\n",
       "        vertical-align: middle;\n",
       "    }\n",
       "\n",
       "    .dataframe tbody tr th {\n",
       "        vertical-align: top;\n",
       "    }\n",
       "\n",
       "    .dataframe thead th {\n",
       "        text-align: right;\n",
       "    }\n",
       "</style>\n",
       "<table border=\"1\" class=\"dataframe\">\n",
       "  <thead>\n",
       "    <tr style=\"text-align: right;\">\n",
       "      <th></th>\n",
       "      <th>index</th>\n",
       "      <th>1. open</th>\n",
       "      <th>2. high</th>\n",
       "      <th>3. low</th>\n",
       "      <th>4. close</th>\n",
       "      <th>5. volume</th>\n",
       "    </tr>\n",
       "  </thead>\n",
       "  <tbody>\n",
       "    <tr>\n",
       "      <th>0</th>\n",
       "      <td>2023-10-06 19:45:00</td>\n",
       "      <td>177.6900</td>\n",
       "      <td>177.7800</td>\n",
       "      <td>177.6000</td>\n",
       "      <td>177.7100</td>\n",
       "      <td>14351</td>\n",
       "    </tr>\n",
       "    <tr>\n",
       "      <th>1</th>\n",
       "      <td>2023-10-06 19:30:00</td>\n",
       "      <td>177.5600</td>\n",
       "      <td>177.6900</td>\n",
       "      <td>177.5400</td>\n",
       "      <td>177.6900</td>\n",
       "      <td>7960</td>\n",
       "    </tr>\n",
       "    <tr>\n",
       "      <th>2</th>\n",
       "      <td>2023-10-06 19:15:00</td>\n",
       "      <td>177.5200</td>\n",
       "      <td>177.5800</td>\n",
       "      <td>177.5100</td>\n",
       "      <td>177.5700</td>\n",
       "      <td>3366</td>\n",
       "    </tr>\n",
       "    <tr>\n",
       "      <th>3</th>\n",
       "      <td>2023-10-06 19:00:00</td>\n",
       "      <td>177.5300</td>\n",
       "      <td>177.5400</td>\n",
       "      <td>177.5100</td>\n",
       "      <td>177.5300</td>\n",
       "      <td>2334</td>\n",
       "    </tr>\n",
       "    <tr>\n",
       "      <th>4</th>\n",
       "      <td>2023-10-06 18:45:00</td>\n",
       "      <td>177.5100</td>\n",
       "      <td>177.5700</td>\n",
       "      <td>177.4600</td>\n",
       "      <td>177.5400</td>\n",
       "      <td>3398</td>\n",
       "    </tr>\n",
       "  </tbody>\n",
       "</table>\n",
       "</div>"
      ],
      "text/plain": [
       "                 index   1. open   2. high    3. low  4. close 5. volume\n",
       "0  2023-10-06 19:45:00  177.6900  177.7800  177.6000  177.7100     14351\n",
       "1  2023-10-06 19:30:00  177.5600  177.6900  177.5400  177.6900      7960\n",
       "2  2023-10-06 19:15:00  177.5200  177.5800  177.5100  177.5700      3366\n",
       "3  2023-10-06 19:00:00  177.5300  177.5400  177.5100  177.5300      2334\n",
       "4  2023-10-06 18:45:00  177.5100  177.5700  177.4600  177.5400      3398"
      ]
     },
     "execution_count": 10,
     "metadata": {},
     "output_type": "execute_result"
    }
   ],
   "source": [
    "#store data into a DataFrame\n",
    "df_apple1 = pd.DataFrame(apple1).transpose().reset_index()\n",
    "df_apple1.head()"
   ]
  },
  {
   "cell_type": "code",
   "execution_count": 11,
   "metadata": {
    "tags": []
   },
   "outputs": [],
   "source": [
    "#Bring in data in DataFrame format\n",
    "ts2 = TimeSeries(key = API_key, output_format = 'pandas')"
   ]
  },
  {
   "cell_type": "code",
   "execution_count": 12,
   "id": "107d7933",
   "metadata": {},
   "outputs": [
    {
     "data": {
      "text/plain": [
       "(                     1. open  2. high   3. low  4. close  5. volume\n",
       " date                                                               \n",
       " 2023-10-06 19:45:00  177.690  177.780  177.600   177.710    14351.0\n",
       " 2023-10-06 19:30:00  177.560  177.690  177.540   177.690     7960.0\n",
       " 2023-10-06 19:15:00  177.520  177.580  177.510   177.570     3366.0\n",
       " 2023-10-06 19:00:00  177.530  177.540  177.510   177.530     2334.0\n",
       " 2023-10-06 18:45:00  177.510  177.570  177.460   177.540     3398.0\n",
       " ...                      ...      ...      ...       ...        ...\n",
       " 2023-10-05 12:00:00  173.485  173.980  173.360   173.925  1199215.0\n",
       " 2023-10-05 11:45:00  173.310  173.830  173.265   173.480  1283470.0\n",
       " 2023-10-05 11:30:00  173.605  173.645  173.300   173.310  1546356.0\n",
       " 2023-10-05 11:15:00  173.320  173.650  173.150   173.600  1679792.0\n",
       " 2023-10-05 11:00:00  173.000  173.375  172.830   173.315  1418368.0\n",
       " \n",
       " [100 rows x 5 columns],\n",
       " {'1. Information': 'Intraday (15min) open, high, low, close prices and volume',\n",
       "  '2. Symbol': 'AAPL',\n",
       "  '3. Last Refreshed': '2023-10-06 19:45:00',\n",
       "  '4. Interval': '15min',\n",
       "  '5. Output Size': 'Compact',\n",
       "  '6. Time Zone': 'US/Eastern'})"
      ]
     },
     "execution_count": 12,
     "metadata": {},
     "output_type": "execute_result"
    }
   ],
   "source": [
    "# display new intraday stock data\n",
    "ts2.get_intraday(\"AAPL\")"
   ]
  },
  {
   "cell_type": "code",
   "execution_count": 18,
   "metadata": {
    "tags": []
   },
   "outputs": [],
   "source": [
    "#get full amount of intraday stock data for data and meta_data\n",
    "df_apple2, meta_data = ts2.get_intraday(\"AAPL\", outputsize = \"full\")"
   ]
  },
  {
   "cell_type": "code",
   "execution_count": 19,
   "metadata": {
    "tags": []
   },
   "outputs": [
    {
     "data": {
      "text/plain": [
       "{'1. Information': 'Intraday (15min) open, high, low, close prices and volume',\n",
       " '2. Symbol': 'AAPL',\n",
       " '3. Last Refreshed': '2023-10-06 19:45:00',\n",
       " '4. Interval': '15min',\n",
       " '5. Output Size': 'Full size',\n",
       " '6. Time Zone': 'US/Eastern'}"
      ]
     },
     "execution_count": 19,
     "metadata": {},
     "output_type": "execute_result"
    }
   ],
   "source": [
    "#print meta_data\n",
    "meta_data"
   ]
  },
  {
   "cell_type": "code",
   "execution_count": 20,
   "metadata": {
    "tags": []
   },
   "outputs": [
    {
     "data": {
      "text/html": [
       "<div>\n",
       "<style scoped>\n",
       "    .dataframe tbody tr th:only-of-type {\n",
       "        vertical-align: middle;\n",
       "    }\n",
       "\n",
       "    .dataframe tbody tr th {\n",
       "        vertical-align: top;\n",
       "    }\n",
       "\n",
       "    .dataframe thead th {\n",
       "        text-align: right;\n",
       "    }\n",
       "</style>\n",
       "<table border=\"1\" class=\"dataframe\">\n",
       "  <thead>\n",
       "    <tr style=\"text-align: right;\">\n",
       "      <th></th>\n",
       "      <th>date</th>\n",
       "      <th>1. open</th>\n",
       "      <th>2. high</th>\n",
       "      <th>3. low</th>\n",
       "      <th>4. close</th>\n",
       "      <th>5. volume</th>\n",
       "    </tr>\n",
       "  </thead>\n",
       "  <tbody>\n",
       "    <tr>\n",
       "      <th>0</th>\n",
       "      <td>2023-10-06 19:45:00</td>\n",
       "      <td>177.69</td>\n",
       "      <td>177.78</td>\n",
       "      <td>177.60</td>\n",
       "      <td>177.71</td>\n",
       "      <td>14351.0</td>\n",
       "    </tr>\n",
       "    <tr>\n",
       "      <th>1</th>\n",
       "      <td>2023-10-06 19:30:00</td>\n",
       "      <td>177.56</td>\n",
       "      <td>177.69</td>\n",
       "      <td>177.54</td>\n",
       "      <td>177.69</td>\n",
       "      <td>7960.0</td>\n",
       "    </tr>\n",
       "    <tr>\n",
       "      <th>2</th>\n",
       "      <td>2023-10-06 19:15:00</td>\n",
       "      <td>177.52</td>\n",
       "      <td>177.58</td>\n",
       "      <td>177.51</td>\n",
       "      <td>177.57</td>\n",
       "      <td>3366.0</td>\n",
       "    </tr>\n",
       "    <tr>\n",
       "      <th>3</th>\n",
       "      <td>2023-10-06 19:00:00</td>\n",
       "      <td>177.53</td>\n",
       "      <td>177.54</td>\n",
       "      <td>177.51</td>\n",
       "      <td>177.53</td>\n",
       "      <td>2334.0</td>\n",
       "    </tr>\n",
       "    <tr>\n",
       "      <th>4</th>\n",
       "      <td>2023-10-06 18:45:00</td>\n",
       "      <td>177.51</td>\n",
       "      <td>177.57</td>\n",
       "      <td>177.46</td>\n",
       "      <td>177.54</td>\n",
       "      <td>3398.0</td>\n",
       "    </tr>\n",
       "    <tr>\n",
       "      <th>...</th>\n",
       "      <td>...</td>\n",
       "      <td>...</td>\n",
       "      <td>...</td>\n",
       "      <td>...</td>\n",
       "      <td>...</td>\n",
       "      <td>...</td>\n",
       "    </tr>\n",
       "    <tr>\n",
       "      <th>1019</th>\n",
       "      <td>2023-09-15 05:00:00</td>\n",
       "      <td>176.05</td>\n",
       "      <td>176.09</td>\n",
       "      <td>175.93</td>\n",
       "      <td>176.00</td>\n",
       "      <td>8555.0</td>\n",
       "    </tr>\n",
       "    <tr>\n",
       "      <th>1020</th>\n",
       "      <td>2023-09-15 04:45:00</td>\n",
       "      <td>175.99</td>\n",
       "      <td>176.08</td>\n",
       "      <td>175.91</td>\n",
       "      <td>176.03</td>\n",
       "      <td>12136.0</td>\n",
       "    </tr>\n",
       "    <tr>\n",
       "      <th>1021</th>\n",
       "      <td>2023-09-15 04:30:00</td>\n",
       "      <td>176.10</td>\n",
       "      <td>176.30</td>\n",
       "      <td>175.93</td>\n",
       "      <td>175.99</td>\n",
       "      <td>15073.0</td>\n",
       "    </tr>\n",
       "    <tr>\n",
       "      <th>1022</th>\n",
       "      <td>2023-09-15 04:15:00</td>\n",
       "      <td>176.18</td>\n",
       "      <td>176.18</td>\n",
       "      <td>176.00</td>\n",
       "      <td>176.11</td>\n",
       "      <td>11856.0</td>\n",
       "    </tr>\n",
       "    <tr>\n",
       "      <th>1023</th>\n",
       "      <td>2023-09-15 04:00:00</td>\n",
       "      <td>176.00</td>\n",
       "      <td>176.44</td>\n",
       "      <td>176.00</td>\n",
       "      <td>176.16</td>\n",
       "      <td>17771.0</td>\n",
       "    </tr>\n",
       "  </tbody>\n",
       "</table>\n",
       "<p>1024 rows × 6 columns</p>\n",
       "</div>"
      ],
      "text/plain": [
       "                    date  1. open  2. high  3. low  4. close  5. volume\n",
       "0    2023-10-06 19:45:00   177.69   177.78  177.60    177.71    14351.0\n",
       "1    2023-10-06 19:30:00   177.56   177.69  177.54    177.69     7960.0\n",
       "2    2023-10-06 19:15:00   177.52   177.58  177.51    177.57     3366.0\n",
       "3    2023-10-06 19:00:00   177.53   177.54  177.51    177.53     2334.0\n",
       "4    2023-10-06 18:45:00   177.51   177.57  177.46    177.54     3398.0\n",
       "...                  ...      ...      ...     ...       ...        ...\n",
       "1019 2023-09-15 05:00:00   176.05   176.09  175.93    176.00     8555.0\n",
       "1020 2023-09-15 04:45:00   175.99   176.08  175.91    176.03    12136.0\n",
       "1021 2023-09-15 04:30:00   176.10   176.30  175.93    175.99    15073.0\n",
       "1022 2023-09-15 04:15:00   176.18   176.18  176.00    176.11    11856.0\n",
       "1023 2023-09-15 04:00:00   176.00   176.44  176.00    176.16    17771.0\n",
       "\n",
       "[1024 rows x 6 columns]"
      ]
     },
     "execution_count": 20,
     "metadata": {},
     "output_type": "execute_result"
    }
   ],
   "source": [
    "#print data with reset index\n",
    "df_apple2.reset_index()"
   ]
  }
 ],
 "metadata": {
  "kernelspec": {
   "display_name": "Python 3",
   "language": "python",
   "name": "python3"
  },
  "language_info": {
   "codemirror_mode": {
    "name": "ipython",
    "version": 3
   },
   "file_extension": ".py",
   "mimetype": "text/x-python",
   "name": "python",
   "nbconvert_exporter": "python",
   "pygments_lexer": "ipython3",
   "version": "3.10.8"
  }
 },
 "nbformat": 4,
 "nbformat_minor": 5
}
